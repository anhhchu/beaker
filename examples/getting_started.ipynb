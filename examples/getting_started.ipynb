{
 "cells": [
  {
   "cell_type": "code",
   "execution_count": null,
   "metadata": {
    "application/vnd.databricks.v1+cell": {
     "cellMetadata": {
      "byteLimit": 2048000,
      "rowLimit": 10000
     },
     "inputWidgets": {},
     "nuid": "419dc4ed-3e7b-4ee0-825a-186e9bce875d",
     "showTitle": false,
     "title": ""
    }
   },
   "outputs": [],
   "source": [
    "%pip install -r requirements.txt -q"
   ]
  },
  {
   "cell_type": "code",
   "execution_count": null,
   "metadata": {
    "application/vnd.databricks.v1+cell": {
     "cellMetadata": {
      "byteLimit": 2048000,
      "rowLimit": 10000
     },
     "inputWidgets": {},
     "nuid": "b0b8e357-baf1-4bde-afa8-e83a9569e70f",
     "showTitle": false,
     "title": ""
    }
   },
   "outputs": [],
   "source": [
    "dbutils.library.restartPython()"
   ]
  },
  {
   "cell_type": "code",
   "execution_count": null,
   "metadata": {
    "application/vnd.databricks.v1+cell": {
     "cellMetadata": {
      "byteLimit": 2048000,
      "rowLimit": 10000
     },
     "inputWidgets": {},
     "nuid": "f61e57fe-b420-4019-b5f2-30e675245201",
     "showTitle": false,
     "title": ""
    }
   },
   "outputs": [],
   "source": [
    "import os, sys"
   ]
  },
  {
   "cell_type": "code",
   "execution_count": null,
   "metadata": {
    "application/vnd.databricks.v1+cell": {
     "cellMetadata": {
      "byteLimit": 2048000,
      "rowLimit": 10000
     },
     "inputWidgets": {},
     "nuid": "a2b5b664-16e8-4475-a139-f8362b598acc",
     "showTitle": false,
     "title": ""
    }
   },
   "outputs": [],
   "source": [
    "import logging\n",
    "logger = logging.getLogger()\n",
    "logger.setLevel(logging.INFO)\n"
   ]
  },
  {
   "cell_type": "code",
   "execution_count": null,
   "metadata": {
    "application/vnd.databricks.v1+cell": {
     "cellMetadata": {
      "byteLimit": 2048000,
      "rowLimit": 10000
     },
     "inputWidgets": {},
     "nuid": "0036c4db-840d-43aa-a8f7-689af7c42a12",
     "showTitle": false,
     "title": ""
    }
   },
   "outputs": [],
   "source": [
    "sys.path.append('../src/')"
   ]
  },
  {
   "cell_type": "code",
   "execution_count": null,
   "metadata": {
    "application/vnd.databricks.v1+cell": {
     "cellMetadata": {
      "byteLimit": 2048000,
      "rowLimit": 10000
     },
     "inputWidgets": {},
     "nuid": "3582a127-4232-4dec-aa3e-1338e6a701cd",
     "showTitle": false,
     "title": ""
    }
   },
   "outputs": [],
   "source": [
    "from beaker import benchmark"
   ]
  },
  {
   "cell_type": "code",
   "execution_count": null,
   "metadata": {
    "application/vnd.databricks.v1+cell": {
     "cellMetadata": {
      "byteLimit": 2048000,
      "rowLimit": 10000
     },
     "inputWidgets": {},
     "nuid": "0e5351e2-cc32-494f-a4a0-0e9e1c85e4ff",
     "showTitle": false,
     "title": ""
    }
   },
   "outputs": [],
   "source": [
    "bm = benchmark.Benchmark()"
   ]
  },
  {
   "cell_type": "code",
   "execution_count": null,
   "metadata": {
    "application/vnd.databricks.v1+cell": {
     "cellMetadata": {
      "byteLimit": 2048000,
      "rowLimit": 10000
     },
     "inputWidgets": {},
     "nuid": "0cf52295-d4c6-477b-98e6-d3937ea2d43c",
     "showTitle": false,
     "title": ""
    }
   },
   "outputs": [],
   "source": [
    "import importlib\n",
    "importlib.reload(benchmark)"
   ]
  },
  {
   "cell_type": "code",
   "execution_count": null,
   "metadata": {
    "application/vnd.databricks.v1+cell": {
     "cellMetadata": {
      "byteLimit": 2048000,
      "rowLimit": 10000
     },
     "inputWidgets": {},
     "nuid": "ae05a0a6-bb77-4f4b-b162-70d4383a7db1",
     "showTitle": false,
     "title": ""
    }
   },
   "outputs": [],
   "source": [
    "hostname = os.getenv(\"DATABRICKS_HOST\")\n",
    "http_path = os.getenv(\"DATABRICKS_HTTP_PATH\")\n",
    "# Don't put the token in plaintext and check in\n",
    "access_token = os.getenv(\"DATABRICKS_ACCESS_TOKEN\")\n",
    "print(hostname)"
   ]
  },
  {
   "cell_type": "code",
   "execution_count": null,
   "metadata": {
    "application/vnd.databricks.v1+cell": {
     "cellMetadata": {
      "byteLimit": 2048000,
      "rowLimit": 10000
     },
     "inputWidgets": {},
     "nuid": "e5b84533-ed24-4ea3-88d6-01bf4277cca1",
     "showTitle": false,
     "title": ""
    }
   },
   "outputs": [],
   "source": [
    "bm.setName(name=\"simple_test\")\n",
    "bm.setHostname(hostname=hostname)\n",
    "bm.setWarehouse(http_path=http_path)\n",
    "bm.setConcurrency(concurrency=1)\n",
    "bm.setWarehouseToken(token=access_token)\n"
   ]
  },
  {
   "cell_type": "code",
   "execution_count": null,
   "metadata": {
    "application/vnd.databricks.v1+cell": {
     "cellMetadata": {
      "byteLimit": 2048000,
      "rowLimit": 10000
     },
     "inputWidgets": {},
     "nuid": "81365f27-ef0b-432d-9440-d72916670b0e",
     "showTitle": false,
     "title": ""
    }
   },
   "outputs": [],
   "source": [
    "query_str=\"\"\"\n",
    "SELECT count(*)\n",
    "  FROM delta.`/databricks-datasets/nyctaxi/tables/nyctaxi_yellow`\n",
    " WHERE passenger_count > 2\n",
    "\"\"\"\n",
    "bm.setQuery(query=query_str)\n",
    "bm.setCatalog(catalog=\"hive_metastore\")\n"
   ]
  },
  {
   "cell_type": "code",
   "execution_count": null,
   "metadata": {
    "application/vnd.databricks.v1+cell": {
     "cellMetadata": {
      "byteLimit": 2048000,
      "rowLimit": 10000
     },
     "inputWidgets": {},
     "nuid": "b5e93556-19ff-4add-bc6b-78fc6b21ca6c",
     "showTitle": false,
     "title": ""
    }
   },
   "outputs": [],
   "source": [
    "beaker_metrics, history_metrics = bm.execute()"
   ]
  },
  {
   "cell_type": "code",
   "execution_count": null,
   "metadata": {
    "application/vnd.databricks.v1+cell": {
     "cellMetadata": {},
     "inputWidgets": {},
     "nuid": "2a7d47e2-e338-4a3a-8463-8ca8be3ae9a1",
     "showTitle": false,
     "title": ""
    }
   },
   "outputs": [],
   "source": [
    "history_metrics"
   ]
  },
  {
   "cell_type": "code",
   "execution_count": null,
   "metadata": {
    "application/vnd.databricks.v1+cell": {
     "cellMetadata": {},
     "inputWidgets": {},
     "nuid": "c2f71cd4-5b87-4e98-a6b7-1d079fbfd05c",
     "showTitle": false,
     "title": ""
    }
   },
   "outputs": [],
   "source": [
    "bm.query_file_format = \"semicolon-delimited\""
   ]
  },
  {
   "cell_type": "code",
   "execution_count": null,
   "metadata": {
    "application/vnd.databricks.v1+cell": {
     "cellMetadata": {},
     "inputWidgets": {},
     "nuid": "59f008bd-460d-454b-80e4-0bbec5f0c155",
     "showTitle": false,
     "title": ""
    }
   },
   "outputs": [],
   "source": [
    "bm.setQueryFile('queries/q1.sql')"
   ]
  },
  {
   "cell_type": "code",
   "execution_count": null,
   "metadata": {
    "application/vnd.databricks.v1+cell": {
     "cellMetadata": {},
     "inputWidgets": {},
     "nuid": "b023c128-b6db-4664-bb18-bea1c4994ee1",
     "showTitle": false,
     "title": ""
    }
   },
   "outputs": [],
   "source": [
    "bm.execute()"
   ]
  },
  {
   "cell_type": "code",
   "execution_count": null,
   "metadata": {
    "application/vnd.databricks.v1+cell": {
     "cellMetadata": {},
     "inputWidgets": {},
     "nuid": "150794cd-7d2e-4d38-8bf9-0ef4de40ea58",
     "showTitle": false,
     "title": ""
    }
   },
   "outputs": [],
   "source": [
    "bm.setQueryFileDir('queries')"
   ]
  },
  {
   "cell_type": "code",
   "execution_count": null,
   "metadata": {
    "application/vnd.databricks.v1+cell": {
     "cellMetadata": {},
     "inputWidgets": {},
     "nuid": "ae66fd20-ee78-4df1-9bc7-b873cd3f08f0",
     "showTitle": false,
     "title": ""
    }
   },
   "outputs": [],
   "source": [
    "metrics_pdf = bm.execute()"
   ]
  },
  {
   "cell_type": "code",
   "execution_count": null,
   "metadata": {},
   "outputs": [],
   "source": [
    "metrics_pdf"
   ]
  },
  {
   "cell_type": "code",
   "execution_count": null,
   "metadata": {
    "application/vnd.databricks.v1+cell": {
     "cellMetadata": {},
     "inputWidgets": {},
     "nuid": "6bf0f336-7732-4e24-bdf5-00ca81870bba",
     "showTitle": false,
     "title": ""
    }
   },
   "outputs": [],
   "source": [
    "from beaker import sqlwarehouseutils"
   ]
  },
  {
   "cell_type": "code",
   "execution_count": null,
   "metadata": {
    "application/vnd.databricks.v1+cell": {
     "cellMetadata": {},
     "inputWidgets": {},
     "nuid": "3e796340-dbd4-40c0-a140-56648522eb50",
     "showTitle": false,
     "title": ""
    }
   },
   "outputs": [],
   "source": [
    "sql_warehouse = sqlwarehouseutils.SQLWarehouseUtils(\n",
    "    bm.hostname,\n",
    "    bm.http_path,\n",
    "    bm.token,\n",
    "    bm.catalog,\n",
    "    bm.schema,\n",
    "    bm.results_cache_enabled,\n",
    ")"
   ]
  },
  {
   "cell_type": "code",
   "execution_count": null,
   "metadata": {
    "application/vnd.databricks.v1+cell": {
     "cellMetadata": {},
     "inputWidgets": {},
     "nuid": "7744be3c-7f67-4345-8930-c51499fc8e75",
     "showTitle": false,
     "title": ""
    }
   },
   "outputs": [],
   "source": [
    "x = sql_warehouse.get_rows(\"\"\"\n",
    "with foo as (\n",
    "  select 'foo', 'bar'\n",
    "  union select 'baz', 'boo'\n",
    ")\n",
    "select * from foo;\n",
    "\"\"\")"
   ]
  },
  {
   "cell_type": "code",
   "execution_count": null,
   "metadata": {
    "application/vnd.databricks.v1+cell": {
     "cellMetadata": {},
     "inputWidgets": {},
     "nuid": "4116033a-c709-4ced-b2b3-c45ba72445c9",
     "showTitle": false,
     "title": ""
    }
   },
   "outputs": [],
   "source": [
    "x"
   ]
  }
 ],
 "metadata": {
  "application/vnd.databricks.v1+notebook": {
   "dashboards": [],
   "language": "python",
   "notebookMetadata": {
    "pythonIndentUnit": 2
   },
   "notebookName": "getting_started",
   "widgets": {}
  },
  "kernelspec": {
   "display_name": "Python [conda env:mr-delta]",
   "language": "python",
   "name": "conda-env-mr-delta-py"
  },
  "language_info": {
   "codemirror_mode": {
    "name": "ipython",
    "version": 3
   },
   "file_extension": ".py",
   "mimetype": "text/x-python",
   "name": "python",
   "nbconvert_exporter": "python",
   "pygments_lexer": "ipython3",
   "version": "3.9.13"
  }
 },
 "nbformat": 4,
 "nbformat_minor": 0
}
